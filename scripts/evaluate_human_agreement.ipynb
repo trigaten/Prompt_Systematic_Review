{
 "cells": [
  {
   "cell_type": "code",
   "execution_count": null,
   "metadata": {},
   "outputs": [],
   "source": [
    "from prompt_systematic_review.automated_review import review_abstract_title_categorical\n",
    "import pandas as pd\n",
    "import os\n",
    "from dotenv import load_dotenv\n",
    "import openai\n",
    "import tqdm\n",
    "from prompt_systematic_review.utils import process_paper_title\n",
    "\n",
    "load_dotenv(dotenv_path=\"../.env\")  # load all entries from .env file\n",
    "\n",
    "openai.api_key = os.getenv(\"OPENAI_API_KEY\")"
   ]
  },
  {
   "cell_type": "code",
   "execution_count": null,
   "metadata": {},
   "outputs": [],
   "source": [
    "df = pd.read_csv(\"arxiv_papers_with_abstract.csv\")"
   ]
  },
  {
   "cell_type": "code",
   "execution_count": null,
   "metadata": {},
   "outputs": [],
   "source": [
    "# Empty list to keep track of results\n",
    "results = []\n",
    "\n",
    "# Iterate over DataFrame row by row\n",
    "for index, row in tqdm.tqdm(df.iterrows()):\n",
    "    # Apply function to each paper's title and abstract\n",
    "    result = review_abstract_title_categorical(\n",
    "        title=row[\"title\"],\n",
    "        abstract=row[\"abstract\"],\n",
    "        model=\"gpt-4-1106-preview\",\n",
    "    )\n",
    "    # Add result to list\n",
    "    results.append(result)"
   ]
  },
  {
   "cell_type": "code",
   "execution_count": null,
   "metadata": {},
   "outputs": [],
   "source": [
    "for i, result in enumerate(results):\n",
    "    df.loc[i, \"Probability\"] = result[\"Probability\"]\n",
    "    df.loc[i, \"Reasoning\"] = result[\"Reasoning\"]"
   ]
  },
  {
   "cell_type": "code",
   "execution_count": null,
   "metadata": {},
   "outputs": [],
   "source": [
    "df.to_csv(\"arxiv_papers_with_ai_labels.csv\")"
   ]
  },
  {
   "cell_type": "code",
   "execution_count": null,
   "metadata": {},
   "outputs": [],
   "source": [
    "blacklist = pd.read_csv(\"../data/blacklist.csv\")\n",
    "blacklist[\"Title\"] = blacklist[\"Title\"].apply(lambda x: process_paper_title(x))\n",
    "df[\"title\"] = df[\"title\"].apply(lambda x: process_paper_title(x))\n",
    "\n",
    "# df = df.iloc[400:800]\n",
    "df_limited = df.copy()  # .iloc[400:800]"
   ]
  },
  {
   "cell_type": "code",
   "execution_count": null,
   "metadata": {},
   "outputs": [],
   "source": [
    "df_limited[\"human_review\"] = ~df_limited[\"title\"].isin(blacklist[\"Title\"])\n",
    "keepables = [\"highly relevant\", \"somewhat relevant\", \"neutral\"]\n",
    "\n",
    "df_limited[\"AI_keep\"] = df_limited[\"Probability\"].map(\n",
    "    lambda x: True if x in keepables else False\n",
    ")"
   ]
  },
  {
   "cell_type": "code",
   "execution_count": null,
   "metadata": {},
   "outputs": [],
   "source": [
    "num_same_rows = (df_limited[\"AI_keep\"] == df_limited[\"human_review\"]).sum()\n",
    "num_same_rows / len(df_limited[\"human_review\"])"
   ]
  },
  {
   "cell_type": "code",
   "execution_count": null,
   "metadata": {},
   "outputs": [],
   "source": [
    "agreement_grid = pd.crosstab(df_limited[\"AI_keep\"], df_limited[\"human_review\"])\n",
    "print(agreement_grid)\n",
    "\n",
    "true_positives = agreement_grid.loc[True, True]\n",
    "false_positives = agreement_grid.loc[True, False]\n",
    "false_negatives = agreement_grid.loc[False, True]\n",
    "\n",
    "precision = true_positives / (true_positives + false_positives)\n",
    "recall = true_positives / (true_positives + false_negatives)\n",
    "\n",
    "f1_score = 2 * (precision * recall) / (precision + recall)\n",
    "f1_score"
   ]
  },
  {
   "cell_type": "code",
   "execution_count": null,
   "metadata": {},
   "outputs": [],
   "source": [
    "df_limited[\"AI_keep\"].sum()"
   ]
  },
  {
   "cell_type": "code",
   "execution_count": null,
   "metadata": {},
   "outputs": [],
   "source": [
    "df_limited[\"human_review\"].sum()"
   ]
  },
  {
   "cell_type": "code",
   "execution_count": null,
   "metadata": {},
   "outputs": [],
   "source": [
    "papers = df_limited[\n",
    "    (df_limited[\"AI_keep\"] == False) & (df_limited[\"human_review\"] == True)\n",
    "]\n",
    "\n",
    "# Print the first few paper titles\n",
    "for i in papers[\"title\"].head(100):\n",
    "    print(i)"
   ]
  },
  {
   "cell_type": "code",
   "execution_count": null,
   "metadata": {},
   "outputs": [],
   "source": [
    "df.iloc[53][\"title\"]"
   ]
  }
 ],
 "metadata": {
  "kernelspec": {
   "display_name": "prompt_survey",
   "language": "python",
   "name": "python3"
  },
  "language_info": {
   "codemirror_mode": {
    "name": "ipython",
    "version": 3
   },
   "file_extension": ".py",
   "mimetype": "text/x-python",
   "name": "python",
   "nbconvert_exporter": "python",
   "pygments_lexer": "ipython3",
   "version": "3.10.13"
  }
 },
 "nbformat": 4,
 "nbformat_minor": 2
}
