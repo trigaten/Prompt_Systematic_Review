{
 "cells": [
  {
   "cell_type": "code",
   "execution_count": null,
   "metadata": {},
   "outputs": [],
   "source": [
    "%pip install nltk transformers torch annoy seaborn matplotlib scikit-learn PyPDF2 plotly\n"
   ]
  },
  {
   "cell_type": "code",
   "execution_count": null,
   "metadata": {},
   "outputs": [],
   "source": [
    "import nltk\n",
    "import numpy as np\n",
    "import matplotlib.pyplot as plt\n",
    "from nltk.corpus import stopwords\n",
    "from nltk.tokenize import word_tokenize\n",
    "from transformers import BertTokenizer, BertModel\n",
    "from annoy import AnnoyIndex\n",
    "import PyPDF2\n",
    "import os\n",
    "import pickle\n",
    "from tqdm import tqdm\n",
    "\n",
    "\n",
    "nltk.download('punkt')\n",
    "nltk.download('stopwords')\n"
   ]
  },
  {
   "cell_type": "code",
   "execution_count": 3,
   "metadata": {},
   "outputs": [],
   "source": [
    "#LOADING THE FILE TEXT IN\n",
    "\n",
    "def read_pdf(file_path):\n",
    "    with open(file_path, 'rb') as file:\n",
    "        pdf_reader = PyPDF2.PdfReader(file)\n",
    "        text = \" \".join([page.extract_text() for page in pdf_reader.pages if page.extract_text() is not None])\n",
    "    return text\n",
    "\n",
    "\n"
   ]
  },
  {
   "cell_type": "code",
   "execution_count": 5,
   "metadata": {},
   "outputs": [],
   "source": [
    "#PREPROCESSING THE TEXT\n",
    "\n",
    "stop_words = set(stopwords.words('english'))\n",
    "\n",
    "def preprocess_text(text):\n",
    "    stop_words = set(stopwords.words('english'))\n",
    "    words = word_tokenize(text)\n",
    "    filtered_words = [word for word in words if word.lower() not in stop_words]\n",
    "    return filtered_words\n"
   ]
  },
  {
   "cell_type": "code",
   "execution_count": 4,
   "metadata": {},
   "outputs": [],
   "source": [
    "from collections import defaultdict\n",
    "\n",
    "tokenizer = BertTokenizer.from_pretrained('bert-base-uncased')\n",
    "model = BertModel.from_pretrained('bert-base-uncased', output_hidden_states=True)\n",
    "\n",
    "# Modify the embedding function for batch processing\n",
    "def embed_words_batch(words):\n",
    "    inputs = tokenizer(words, padding=True, return_tensors='pt', truncation=True)\n",
    "    outputs = model(**inputs)\n",
    "    return outputs.hidden_states[-1][:, 0, :].detach().numpy()\n",
    "\n",
    "# Creating embeddings with caching and batch processing\n",
    "def create_embedding_dictionary_batch(file_path, batch_size=10):\n",
    "    document_text = read_pdf(file_path)\n",
    "    words = preprocess_text(document_text)\n",
    "    unique_words = list(set(words))  # Unique words for caching\n",
    "\n",
    "    # Caching embeddings\n",
    "    cached_embeddings = defaultdict(lambda: None)\n",
    "    embeddings_dict = {}\n",
    "\n",
    "    for i in range(0, len(unique_words), batch_size):\n",
    "        batch_words = unique_words[i:i+batch_size]\n",
    "        batch_embeddings = embed_words_batch(batch_words)\n",
    "\n",
    "        for word, embedding in zip(batch_words, batch_embeddings):\n",
    "            cached_embeddings[word] = embedding\n",
    "\n",
    "    for word in words:\n",
    "        embeddings_dict[word] = {\n",
    "            'embedding': cached_embeddings[word],\n",
    "            'file': file_path\n",
    "        }\n",
    "\n",
    "    return embeddings_dict\n",
    "\n",
    "\n",
    "def process_multiple_pdfs(folder_path, n, batch=10):\n",
    "    all_files = [f for f in os.listdir(folder_path) if f.endswith('.pdf')]\n",
    "    processed_files = all_files[:n]  # Process only the first n files\n",
    "\n",
    "    all_embeddings = {}\n",
    "    for file in tqdm(processed_files, desc=\"Processing PDFs\"):\n",
    "        file_path = os.path.join(folder_path, file)\n",
    "        try:\n",
    "            embeddings_dict = create_embedding_dictionary_batch(file_path, batch)\n",
    "            all_embeddings.update(embeddings_dict)\n",
    "        except Exception as e:  # Catching a more general exception\n",
    "            print(f\"Error reading PDF: {file}. Skipping this file.\")\n",
    "            continue\n",
    "\n",
    "    return all_embeddings"
   ]
  },
  {
   "cell_type": "code",
   "execution_count": 5,
   "metadata": {},
   "outputs": [],
   "source": [
    "def build_annoy_index(embeddings_dict):\n",
    "    f = list(embeddings_dict.values())[0]['embedding'].shape[0]\n",
    "    t = AnnoyIndex(f, 'angular')\n",
    "    for i, (word, data) in enumerate(embeddings_dict.items()):\n",
    "        t.add_item(i, data['embedding'])\n",
    "    t.build(10)\n",
    "    return t\n",
    "\n",
    "def query_similar_words(query, index, embeddings_dict, top_n=5):\n",
    "    query_embedding = embed_words_batch([query])[0]  # Embed the query word\n",
    "    nearest_ids = index.get_nns_by_vector(query_embedding, top_n)\n",
    "\n",
    "    similar_words_with_titles = []\n",
    "    for i in nearest_ids:\n",
    "        word = list(embeddings_dict.keys())[i]\n",
    "        title = embeddings_dict[word]['file'].split('/')[-1]  # Extract the file name\n",
    "        similar_words_with_titles.append((word, title))\n",
    "\n",
    "    return similar_words_with_titles\n",
    "\n"
   ]
  },
  {
   "cell_type": "code",
   "execution_count": 8,
   "metadata": {},
   "outputs": [
    {
     "name": "stderr",
     "output_type": "stream",
     "text": [
      "Processing PDFs: 100%|██████████| 100/100 [18:19<00:00, 11.00s/it]\n"
     ]
    }
   ],
   "source": [
    "folder_path = '/Users/aayushgupta/Desktop/PapersDirectory/papers'\n",
    "num_papers_to_process = 1464  # Replace with the number of papers you want to process\n",
    "\n",
    "embeddings_dict = process_multiple_pdfs(folder_path, num_papers_to_process, 100)\n",
    "\n",
    "\n",
    "# # Create embeddings dictionary\n",
    "# filepath = 'path'\n",
    "# embeddings_dict = create_embedding_dictionary_batch(file_path, 40)"
   ]
  },
  {
   "cell_type": "code",
   "execution_count": 13,
   "metadata": {},
   "outputs": [],
   "source": [
    "# Assuming embeddings_dict is your dictionary\n",
    "with open('vector_embeddings.pkl', 'wb') as f:\n",
    "    pickle.dump(embeddings_dict, f)\n"
   ]
  }
 ],
 "metadata": {
  "kernelspec": {
   "display_name": "Python 3",
   "language": "python",
   "name": "python3"
  },
  "language_info": {
   "codemirror_mode": {
    "name": "ipython",
    "version": 3
   },
   "file_extension": ".py",
   "mimetype": "text/x-python",
   "name": "python",
   "nbconvert_exporter": "python",
   "pygments_lexer": "ipython3",
   "version": "3.11.3"
  },
  "orig_nbformat": 4,
  "vscode": {
   "interpreter": {
    "hash": "b0fa6594d8f4cbf19f97940f81e996739fb7646882a419484c72d19e05852a7e"
   }
  }
 },
 "nbformat": 4,
 "nbformat_minor": 2
}
