{
 "cells": [
  {
   "cell_type": "code",
   "execution_count": null,
   "metadata": {},
   "outputs": [],
   "source": [
    "%pip install nltk transformers torch annoy seaborn matplotlib scikit-learn PyPDF2 plotly"
   ]
  },
  {
   "cell_type": "code",
   "execution_count": null,
   "metadata": {},
   "outputs": [],
   "source": [
    "import nltk\n",
    "import numpy as np\n",
    "import matplotlib.pyplot as plt\n",
    "import os\n",
    "import pickle\n",
    "import torch\n",
    "from transformers import BertTokenizer, BertModel\n",
    "from nltk.tokenize import word_tokenize, sent_tokenize\n",
    "from multiprocessing import Pool\n",
    "from huggingface_hub import snapshot_download\n",
    "from tqdm import tqdm\n",
    "from collections import defaultdict\n",
    "import torch\n",
    "from torch.nn import DataParallel\n",
    "from paper_processing_for_embeddings import preprocess_and_read, read_pdf\n",
    "\n",
    "nltk.download('punkt')\n",
    "nltk.download('stopwords')\n"
   ]
  },
  {
   "cell_type": "code",
   "execution_count": null,
   "metadata": {},
   "outputs": [],
   "source": [
    "\n",
    "snapshot_download(repo_id='PromptSystematicReview/Prompt_Systematic_Review_Dataset', \n",
    "                  repo_type='dataset', \n",
    "                  local_dir='./PapersDirectory', \n",
    "                  allow_patterns=['papers/*'], \n",
    "                  local_dir_use_symlinks=False)\n"
   ]
  },
  {
   "cell_type": "code",
   "execution_count": 5,
   "metadata": {},
   "outputs": [],
   "source": [
    "# Check if CUDA is available, else use CPU\n",
    "device = torch.device(\"cuda\" if torch.cuda.is_available() else \"cpu\")\n",
    "\n",
    "tokenizer = BertTokenizer.from_pretrained('bert-base-uncased')\n",
    "model = BertModel.from_pretrained('bert-base-uncased', output_hidden_states=True)\n",
    "\n",
    "# If multiple GPUs are available, use DataParallel\n",
    "if torch.cuda.device_count() > 1:\n",
    "    model = DataParallel(model)\n",
    "\n",
    "model = model.to(device)"
   ]
  },
  {
   "cell_type": "code",
   "execution_count": 6,
   "metadata": {},
   "outputs": [],
   "source": [
    "def process_pdfs_in_parallel(folder_path, n, num_workers=8):\n",
    "    all_files = [os.path.join(folder_path, f) for f in os.listdir(folder_path) if f.endswith('.pdf')]\n",
    "    processed_files = all_files[:n]\n",
    "\n",
    "    with Pool(num_workers) as p:\n",
    "        results = list(tqdm(p.imap(preprocess_and_read, processed_files), total=len(processed_files)))\n",
    "\n",
    "    return results\n",
    "\n",
    "def count_pdfs_in_directory(directory_path):\n",
    "    return len([f for f in os.listdir(directory_path) if f.endswith('.pdf') and os.path.isfile(os.path.join(directory_path, f))])"
   ]
  },
  {
   "cell_type": "code",
   "execution_count": 7,
   "metadata": {},
   "outputs": [],
   "source": [
    "# Embedding Functions\n",
    "def embed_text_batch(text_list, batch_size=25):\n",
    "    all_embeddings = []\n",
    "    for i in range(0, len(text_list), batch_size):\n",
    "        batch_texts = text_list[i:i + batch_size]\n",
    "        inputs = tokenizer(batch_texts, padding=True, return_tensors='pt', truncation=True, max_length=512)\n",
    "        inputs = {k: v.to(device) for k, v in inputs.items()}\n",
    "        with torch.no_grad():\n",
    "            outputs = model(**inputs)\n",
    "        embeddings = outputs.last_hidden_state.mean(dim=1).detach().cpu().numpy()\n",
    "        all_embeddings.extend(embeddings)\n",
    "    return all_embeddings\n",
    "\n",
    "# Main Processing Function\n",
    "def create_embeddings(folder_path, embedding_type='word', num_papers=None, num_workers=8):\n",
    "    num_papers_to_process = count_pdfs_in_directory(folder_path) if num_papers is None else num_papers\n",
    "    preprocessed_data = process_pdfs_in_parallel(folder_path, num_papers_to_process, num_workers)\n",
    "    \n",
    "    embeddings_dict = {}\n",
    "    for words, file_path in preprocessed_data:\n",
    "        if embedding_type == 'word':\n",
    "            text_units = list(set(words))\n",
    "        elif embedding_type == 'sentence':\n",
    "            text_units = sent_tokenize(' '.join(words))\n",
    "\n",
    "\n",
    "        embeddings = embed_text_batch(text_units)\n",
    "        for unit, embedding in zip(text_units, embeddings):\n",
    "            embeddings_dict[unit] = {'embedding': embedding, 'file': file_path}\n",
    "    \n",
    "    return embeddings_dict"
   ]
  },
  {
   "cell_type": "code",
   "execution_count": null,
   "metadata": {},
   "outputs": [],
   "source": [
    "# Set the path to the directory containing the papers\n",
    "papers_path = './PapersDirectory/papers'\n",
    "batch_size = 40\n",
    "\n",
    "# Count the number of PDFs in the directory to process all available papers\n",
    "num_papers_to_process = count_pdfs_in_directory(papers_path)\n",
    "\n",
    "# Continue with processing\n",
    "embeddings_dict = create_embeddings(papers_path, embedding_type='sentence')"
   ]
  },
  {
   "cell_type": "code",
   "execution_count": 9,
   "metadata": {},
   "outputs": [],
   "source": [
    "# Assuming embeddings_dict is your dictionary\n",
    "with open('sentence_embeddings.pkl', 'wb') as f:\n",
    "    pickle.dump(embeddings_dict, f)\n"
   ]
  }
 ],
 "metadata": {
  "kernelspec": {
   "display_name": "Python 3",
   "language": "python",
   "name": "python3"
  },
  "language_info": {
   "codemirror_mode": {
    "name": "ipython",
    "version": 3
   },
   "file_extension": ".py",
   "mimetype": "text/x-python",
   "name": "python",
   "nbconvert_exporter": "python",
   "pygments_lexer": "ipython3",
   "version": "3.11.3"
  },
  "orig_nbformat": 4,
  "vscode": {
   "interpreter": {
    "hash": "b0fa6594d8f4cbf19f97940f81e996739fb7646882a419484c72d19e05852a7e"
   }
  }
 },
 "nbformat": 4,
 "nbformat_minor": 2
}
