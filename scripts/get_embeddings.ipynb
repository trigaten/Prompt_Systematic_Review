{
 "cells": [
  {
   "cell_type": "code",
   "execution_count": null,
   "metadata": {},
   "outputs": [],
   "source": [
    "%pip install nltk transformers torch annoy seaborn matplotlib scikit-learn PyPDF2 plotly\n"
   ]
  },
  {
   "cell_type": "code",
   "execution_count": null,
   "metadata": {},
   "outputs": [],
   "source": [
    "import nltk\n",
    "import numpy as np\n",
    "import matplotlib.pyplot as plt\n",
    "from nltk.corpus import stopwords\n",
    "from nltk.tokenize import word_tokenize\n",
    "from transformers import BertTokenizer, BertModel\n",
    "from annoy import AnnoyIndex\n",
    "import PyPDF2\n",
    "import os\n",
    "import pickle\n",
    "from tqdm import tqdm\n",
    "\n",
    "\n",
    "nltk.download('punkt')\n",
    "nltk.download('stopwords')\n"
   ]
  },
  {
   "cell_type": "code",
   "execution_count": null,
   "metadata": {},
   "outputs": [],
   "source": [
    "from huggingface_hub import snapshot_download\n",
    "\n",
    "snapshot_download(repo_id='PromptSystematicReview/Prompt_Systematic_Review_Dataset', \n",
    "                  repo_type='dataset', \n",
    "                  local_dir='./PapersDirectory', \n",
    "                  allow_patterns=['papers/*'], \n",
    "                  local_dir_use_symlinks=False)\n"
   ]
  },
  {
   "cell_type": "code",
   "execution_count": 39,
   "metadata": {},
   "outputs": [],
   "source": [
    "#LOADING THE FILE TEXT IN\n",
    "\n",
    "def read_pdf(file_path):\n",
    "    with open(file_path, 'rb') as file:\n",
    "        pdf_reader = PyPDF2.PdfReader(file)\n",
    "        text = \" \".join([page.extract_text() for page in pdf_reader.pages if page.extract_text() is not None])\n",
    "    return text\n",
    "\n",
    "\n",
    "\n"
   ]
  },
  {
   "cell_type": "code",
   "execution_count": 40,
   "metadata": {},
   "outputs": [],
   "source": [
    "#PREPROCESSING THE TEXT\n",
    "\n",
    "stop_words = set(stopwords.words('english'))\n",
    "\n",
    "def preprocess_text(text):\n",
    "    stop_words = set(stopwords.words('english'))\n",
    "    words = word_tokenize(text)\n",
    "    filtered_words = [word for word in words if word.lower() not in stop_words]\n",
    "    return filtered_words\n"
   ]
  },
  {
   "cell_type": "code",
   "execution_count": 41,
   "metadata": {},
   "outputs": [],
   "source": [
    "from collections import defaultdict\n",
    "import torch\n",
    "from torch.nn import DataParallel\n",
    "from transformers import BertTokenizer, BertMod\n",
    "\n",
    "tokenizer = BertTokenizer.from_pretrained('bert-base-uncased')\n",
    "model = BertModel.from_pretrained('bert-base-uncased', output_hidden_states=True)\n",
    "model = DataParallel(model).cuda()  # This will distribute the model across all available GPUs\n",
    "\n",
    "\n",
    "# Modify the embedding function for batch processing\n",
    "def embed_words_batch(words):\n",
    "    inputs = tokenizer(words, padding=True, return_tensors='pt', truncation=True)\n",
    "    inputs = {k: v.cuda() for k, v in inputs.items()}  # Move inputs to GPU\n",
    "    outputs = model(**inputs)\n",
    "    return outputs.hidden_states[-1][:, 0, :].detach().cpu().numpy()\n",
    "\n",
    "# Creating embeddings with caching and batch processing\n",
    "def create_embedding_dictionary_batch(file_path, batch_size=10):\n",
    "    document_text = read_pdf(file_path)\n",
    "    words = preprocess_text(document_text)\n",
    "    unique_words = list(set(words))  # Unique words for caching\n",
    "\n",
    "    # Caching embeddings\n",
    "    cached_embeddings = defaultdict(lambda: None)\n",
    "    embeddings_dict = {}\n",
    "\n",
    "    for i in range(0, len(unique_words), batch_size):\n",
    "        batch_words = unique_words[i:i+batch_size]\n",
    "        batch_embeddings = embed_words_batch(batch_words)\n",
    "\n",
    "        for word, embedding in zip(batch_words, batch_embeddings):\n",
    "            cached_embeddings[word] = embedding\n",
    "\n",
    "    for word in words:\n",
    "        embeddings_dict[word] = {\n",
    "            'embedding': cached_embeddings[word],\n",
    "            'file': file_path\n",
    "        }\n",
    "\n",
    "    return embeddings_dict\n",
    "\n",
    "\n",
    "def process_multiple_pdfs(folder_path, n, batch=10):\n",
    "    all_files = [f for f in os.listdir(folder_path) if f.endswith('.pdf')]\n",
    "    processed_files = all_files[:n]  # Process only the first n files\n",
    "\n",
    "    all_embeddings = {}\n",
    "    for file in tqdm(processed_files, desc=\"Processing PDFs\"):\n",
    "        file_path = os.path.join(folder_path, file)\n",
    "        try:\n",
    "            embeddings_dict = create_embedding_dictionary_batch(file_path, batch)\n",
    "            all_embeddings.update(embeddings_dict)\n",
    "        except Exception as e:  # Catching a more general exception\n",
    "            print(f\"Error reading PDF: {file}. Skipping this file.\")\n",
    "            continue\n",
    "\n",
    "    return all_embeddings\n",
    "\n",
    "\n"
   ]
  },
  {
   "cell_type": "code",
   "execution_count": null,
   "metadata": {},
   "outputs": [],
   "source": [
    "\n",
    "from multiprocessing import Pool\n",
    "import os\n",
    "\n",
    "def preprocess_and_read(file_path):\n",
    "    try:\n",
    "        document_text = read_pdf(file_path)\n",
    "        words = preprocess_text(document_text)\n",
    "        return words, file_path\n",
    "    except Exception as e:\n",
    "        print(f\"Error processing {file_path}: {e}\")\n",
    "        return [], file_path\n",
    "\n",
    "def process_pdfs_in_parallel(folder_path, n, num_workers=8):\n",
    "    all_files = [os.path.join(folder_path, f) for f in os.listdir(folder_path) if f.endswith('.pdf')]\n",
    "    processed_files = all_files[:n]\n",
    "\n",
    "    with Pool(num_workers) as p:\n",
    "        results = list(tqdm(p.imap(preprocess_and_read, processed_files), total=len(processed_files)))\n",
    "\n",
    "    return results\n",
    "\n",
    "\n",
    "def create_embeddings_from_preprocessed_data(preprocessed_data, batch_size=50):\n",
    "    all_embeddings = {}\n",
    "\n",
    "    for words, file_path in preprocessed_data:\n",
    "        unique_words = list(set(words))\n",
    "        cached_embeddings = defaultdict(lambda: None)\n",
    "\n",
    "        for i in range(0, len(unique_words), batch_size):\n",
    "            batch_words = unique_words[i:i + batch_size]\n",
    "            batch_embeddings = embed_words_batch(batch_words)\n",
    "\n",
    "            for word, embedding in zip(batch_words, batch_embeddings):\n",
    "                all_embeddings[word] = {\n",
    "                    'embedding': embedding,\n",
    "                    'file': file_path\n",
    "                }\n",
    "\n",
    "    return all_embeddings"
   ]
  },
  {
   "cell_type": "code",
   "execution_count": null,
   "metadata": {},
   "outputs": [],
   "source": [
    "papers_path = './PapersDirectory/papers'\n",
    "num_papers_to_process = 1  # Replace with the number of papers you want to process\n",
    "\n",
    "# Step 1: Parallel preprocessing\n",
    "preprocessed_data = process_pdfs_in_parallel(papers_path, num_papers_to_process)\n",
    "\n",
    "# Step 2: Batch embedding\n",
    "embeddings_dict = create_embeddings_from_preprocessed_data(preprocessed_data)"
   ]
  },
  {
   "cell_type": "code",
   "execution_count": 44,
   "metadata": {},
   "outputs": [],
   "source": [
    "# Assuming embeddings_dict is your dictionary\n",
    "with open('vector_embeddings.pkl', 'wb') as f:\n",
    "    pickle.dump(embeddings_dict, f)\n"
   ]
  },
  {
   "cell_type": "code",
   "execution_count": null,
   "metadata": {},
   "outputs": [],
   "source": []
  }
 ],
 "metadata": {
  "kernelspec": {
   "display_name": "Python 3",
   "language": "python",
   "name": "python3"
  },
  "language_info": {
   "codemirror_mode": {
    "name": "ipython",
    "version": 3
   },
   "file_extension": ".py",
   "mimetype": "text/x-python",
   "name": "python",
   "nbconvert_exporter": "python",
   "pygments_lexer": "ipython3",
   "version": "3.11.3 (main, Apr  7 2023, 21:05:46) [Clang 14.0.0 (clang-1400.0.29.202)]"
  },
  "orig_nbformat": 4,
  "vscode": {
   "interpreter": {
    "hash": "b0fa6594d8f4cbf19f97940f81e996739fb7646882a419484c72d19e05852a7e"
   }
  }
 },
 "nbformat": 4,
 "nbformat_minor": 2
}
