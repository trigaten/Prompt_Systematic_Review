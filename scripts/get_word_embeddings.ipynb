{
 "cells": [
  {
   "cell_type": "code",
   "execution_count": null,
   "metadata": {},
   "outputs": [],
   "source": [
    "%pip install nltk transformers torch annoy seaborn matplotlib scikit-learn PyPDF2 plotly"
   ]
  },
  {
   "cell_type": "code",
   "execution_count": 1,
   "metadata": {},
   "outputs": [
    {
     "name": "stderr",
     "output_type": "stream",
     "text": [
      "[nltk_data] Downloading package punkt to\n",
      "[nltk_data]     /Users/aayushgupta/nltk_data...\n",
      "[nltk_data]   Package punkt is already up-to-date!\n",
      "[nltk_data] Downloading package stopwords to\n",
      "[nltk_data]     /Users/aayushgupta/nltk_data...\n",
      "[nltk_data]   Package stopwords is already up-to-date!\n"
     ]
    },
    {
     "data": {
      "text/plain": [
       "True"
      ]
     },
     "execution_count": 1,
     "metadata": {},
     "output_type": "execute_result"
    }
   ],
   "source": [
    "import nltk\n",
    "import numpy as np\n",
    "import matplotlib.pyplot as plt\n",
    "import os\n",
    "import pickle\n",
    "import torch\n",
    "from transformers import BertTokenizer, BertModel\n",
    "from nltk.tokenize import word_tokenize, sent_tokenize\n",
    "from multiprocessing import Pool\n",
    "from tqdm import tqdm\n",
    "from collections import defaultdict\n",
    "import torch\n",
    "from torch.nn import DataParallel\n",
    "from paper_processing_for_embeddings import preprocess_and_read_sentences\n",
    "\n",
    "nltk.download('punkt')\n",
    "nltk.download('stopwords')"
   ]
  },
  {
   "cell_type": "code",
   "execution_count": 2,
   "metadata": {},
   "outputs": [],
   "source": [
    "device = torch.device(\"cuda\" if torch.cuda.is_available() else \"cpu\")\n",
    "\n",
    "tokenizer = BertTokenizer.from_pretrained('bert-base-uncased')\n",
    "model = BertModel.from_pretrained('bert-base-uncased', output_hidden_states=True)\n",
    "\n",
    "if torch.cuda.device_count() > 1:\n",
    "    model = DataParallel(model)\n",
    "\n",
    "model = model.to(device)"
   ]
  },
  {
   "cell_type": "code",
   "execution_count": 3,
   "metadata": {},
   "outputs": [],
   "source": [
    "def process_pdfs_in_parallel(folder_path, n, num_workers=8):\n",
    "    all_files = [os.path.join(folder_path, f) for f in os.listdir(folder_path) if f.endswith('.pdf')]\n",
    "    processed_files = all_files[:n]\n",
    "\n",
    "    with Pool(num_workers) as p:\n",
    "        results = list(tqdm(p.imap(preprocess_and_read_sentences, processed_files), total=len(processed_files)))\n",
    "\n",
    "    return results\n",
    "\n",
    "def count_pdfs_in_directory(directory_path):\n",
    "    return len([f for f in os.listdir(directory_path) if f.endswith('.pdf') and os.path.isfile(os.path.join(directory_path, f))])"
   ]
  },
  {
   "cell_type": "code",
   "execution_count": 4,
   "metadata": {},
   "outputs": [],
   "source": [
    "def embed_text_batch(text_list, batch_size=100):\n",
    "    all_embeddings = []\n",
    "    for i in range(0, len(text_list), batch_size):\n",
    "        batch_texts = text_list[i:i + batch_size]\n",
    "        inputs = tokenizer(batch_texts, padding='longest', return_tensors='pt', truncation=True, max_length=512)\n",
    "        inputs = {k: v.to(device) for k, v in inputs.items()}\n",
    "        with torch.no_grad():\n",
    "            outputs = model(**inputs)\n",
    "        embeddings = outputs.last_hidden_state.mean(dim=1).detach().cpu().numpy()\n",
    "        all_embeddings.extend(embeddings)\n",
    "    return all_embeddings\n",
    "\n",
    "\n",
    "def get_word_embeddings(sentence, tokenizer, model):\n",
    "    if not sentence or type(sentence) != str:\n",
    "        print(f\"Invalid sentence: {sentence}\")\n",
    "        return {}\n",
    "    \n",
    "    # Truncate sentence to a reasonable length if necessary\n",
    "    sentence = sentence[:512]  # Example truncation\n",
    "    try:\n",
    "        inputs = tokenizer(sentence, return_tensors='pt', padding=True, truncation=True, max_length=512)\n",
    "        outputs = model(**inputs)\n",
    "        token_embeddings = outputs.last_hidden_state.squeeze(0)\n",
    "        tokenized_sentence = tokenizer.tokenize(sentence)\n",
    "        word_embeddings = {word: token_embeddings[i].detach().cpu().numpy() for i, word in enumerate(tokenized_sentence)}\n",
    "        return word_embeddings\n",
    "    except Exception as e:\n",
    "        print(f\"Error tokenizing sentence: {sentence}. Error: {e}\")\n",
    "        return {}\n"
   ]
  },
  {
   "cell_type": "code",
   "execution_count": 5,
   "metadata": {},
   "outputs": [],
   "source": [
    "def create_word_embeddings(folder_path, num_papers=None, num_workers=8):\n",
    "    num_papers_to_process = count_pdfs_in_directory(folder_path) if num_papers is None else num_papers\n",
    "    preprocessed_data = process_pdfs_in_parallel(folder_path, num_papers_to_process, num_workers)\n",
    "\n",
    "    embeddings_dict = defaultdict(dict)\n",
    "    for sentences, file_path in tqdm(preprocessed_data):  # 'data' is now a tuple of (sentences, file_path)\n",
    "        for sentence in sentences:  # Iterating over sentences\n",
    "            word_embeddings = get_word_embeddings(sentence, tokenizer, model)\n",
    "            for word, embedding in word_embeddings.items():\n",
    "                embeddings_dict[word]['embedding'] = embedding\n",
    "                embeddings_dict[word]['file'] = file_path  # Using the specific file path\n",
    "    return embeddings_dict\n"
   ]
  },
  {
   "cell_type": "code",
   "execution_count": 7,
   "metadata": {},
   "outputs": [
    {
     "name": "stderr",
     "output_type": "stream",
     "text": [
      "100%|██████████| 2/2 [00:01<00:00,  1.89it/s]\n",
      "100%|██████████| 2/2 [00:35<00:00, 17.84s/it]\n"
     ]
    }
   ],
   "source": [
    "papers_path = './PapersDirectory/papers'\n",
    "\n",
    "embeddings_dict = create_word_embeddings(papers_path, num_papers=2)\n",
    "\n",
    "with open('new_word_embeddings.pkl', 'wb') as f:\n",
    "    pickle.dump(embeddings_dict, f)"
   ]
  }
 ],
 "metadata": {
  "kernelspec": {
   "display_name": "Python 3",
   "language": "python",
   "name": "python3"
  },
  "language_info": {
   "codemirror_mode": {
    "name": "ipython",
    "version": 3
   },
   "file_extension": ".py",
   "mimetype": "text/x-python",
   "name": "python",
   "nbconvert_exporter": "python",
   "pygments_lexer": "ipython3",
   "version": "3.11.3"
  },
  "orig_nbformat": 4,
  "vscode": {
   "interpreter": {
    "hash": "b0fa6594d8f4cbf19f97940f81e996739fb7646882a419484c72d19e05852a7e"
   }
  }
 },
 "nbformat": 4,
 "nbformat_minor": 2
}
